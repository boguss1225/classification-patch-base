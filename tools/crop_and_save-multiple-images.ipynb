{
 "cells": [
  {
   "cell_type": "code",
   "execution_count": 16,
   "metadata": {},
   "outputs": [],
   "source": [
    "# Author : https://github.com/boguss1225\n",
    "import os\n",
    "import cv2\n",
    "import glob\n",
    "import numpy as np\n",
    "import matplotlib.pyplot as plt\n",
    "import matplotlib.image as mpimg\n",
    "from pathlib import Path"
   ]
  },
  {
   "cell_type": "code",
   "execution_count": 17,
   "metadata": {},
   "outputs": [],
   "source": [
    "# TO BE CONFIGURED\n",
    "PATCH_SIZE_W, PATCH_SIZE_H = 45, 45\n",
    "FILE_PATH = \"../ivy_coverage\"\n",
    "RESULT_PATH = \"results\""
   ]
  },
  {
   "cell_type": "code",
   "execution_count": 18,
   "metadata": {},
   "outputs": [],
   "source": [
    "# Get file list\n",
    "files = Path(FILE_PATH).glob('*.jpeg')"
   ]
  },
  {
   "cell_type": "code",
   "execution_count": 19,
   "metadata": {},
   "outputs": [],
   "source": [
    "try:\n",
    "    os.mkdir(RESULT_PATH)\n",
    "except OSError as error:\n",
    "    print(error)"
   ]
  },
  {
   "cell_type": "code",
   "execution_count": 21,
   "metadata": {},
   "outputs": [],
   "source": [
    "for file in files :\n",
    "    # Load image\n",
    "    im = cv2.imread(str(file))\n",
    "    im = cv2.cvtColor(im,cv2.COLOR_BGR2RGB)\n",
    "    img_h, img_w, img_c = im.shape\n",
    "    \n",
    "    w_ratio = int(img_w/PATCH_SIZE_W)\n",
    "    h_ratio = int(img_h/PATCH_SIZE_H)\n",
    "    # iterate image upto patch size\n",
    "    for h in range(h_ratio) :\n",
    "        y_min = h * PATCH_SIZE_H\n",
    "        y_max = y_min + PATCH_SIZE_H\n",
    "\n",
    "        for w in range(w_ratio) : \n",
    "            x_min = w * PATCH_SIZE_W\n",
    "            x_max = x_min + PATCH_SIZE_W\n",
    "\n",
    "            # Cropping image\n",
    "            cropped_image = im[y_min:y_max,x_min:x_max]\n",
    "            save_path = RESULT_PATH +\"/\"+ file.stem + \"_\"+ str(h)+str(w)+ \".jpg\"\n",
    "            cv2.imwrite(save_path, cropped_image)\n"
   ]
  },
  {
   "cell_type": "code",
   "execution_count": null,
   "metadata": {},
   "outputs": [],
   "source": []
  }
 ],
 "metadata": {
  "kernelspec": {
   "display_name": "Python 3",
   "language": "python",
   "name": "python3"
  },
  "language_info": {
   "codemirror_mode": {
    "name": "ipython",
    "version": 3
   },
   "file_extension": ".py",
   "mimetype": "text/x-python",
   "name": "python",
   "nbconvert_exporter": "python",
   "pygments_lexer": "ipython3",
   "version": "3.9.2"
  }
 },
 "nbformat": 4,
 "nbformat_minor": 4
}
